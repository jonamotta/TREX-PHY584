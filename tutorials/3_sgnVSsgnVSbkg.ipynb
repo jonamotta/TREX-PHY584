{
 "cells": [
  {
   "cell_type": "markdown",
   "metadata": {},
   "source": [
    "# 3. Signal *vs* Signal *vs* Background"
   ]
  },
  {
   "cell_type": "markdown",
   "metadata": {},
   "source": [
    "### 3.1 ggHH *vs*. qqHH"
   ]
  },
  {
   "cell_type": "markdown",
   "metadata": {},
   "source": [
    "As we have seen already, there are more then one production mode for a Higgs boson pair. These are:\n",
    "\n",
    "* **gluon fusion (ggHH) $\\text{gg}\\rightarrow\\text{HH}$**: it is mediated by loops of heavy quarks, mainly top with a contribution from the bottom quark smaller than 1\\% at leading order (LO). Two diagrams can be drawn at LO, both reported below. The first one involves the tri-linear coupling $\\lambda_{\\text{HHH}}$ and the HH is produced when an off-shell H splits up into two on-shell H. In the second one, each H is radiated directly off the heavy quark loop, and involves the top Yukawa coupling $y_t$. The two diagrams are reported below and they make explicit the usual jargon used to address them as \\textit{triangle} and \\textit{box} diagrams.\n",
    "\\begin{equation}\n",
    "\\sigma_{\\text{NNLO-FTapprox}}^{\\text{ggHH}}(\\sqrt{s}=13\\text{TeV},m_{\\text{H}}=125\\text{GeV})=31.05^{+2.2\\%}_{-5.0\\%}(\\text{scale})\\pm2.6\\%(m_{\\text{t}})\\pm2.1\\% (\\text{PDF})\\pm2.1\\%(\\alpha_S)\\text{ fb}\n",
    "\\end{equation}\n",
    "\n",
    "\n",
    "* **vector boson fusion (VBF) $\\text{qq}'\\rightarrow\\text{jjHH}$**: can be seen as the double elastic scattering of two quarks with two HH radiated off the weak bosons that fuse. At LO three diagrams can be drawn, and are reported below. The one on the left involves the tri-linear coupling $\\lambda_{\\text{HHH}}$, whereas the one in the middle and the one on the right involve the coupling of a H with one vector boson ($c_V$) and the coupling of a HH with two vector bosons ($c_{2V}$), respectively.\n",
    "\\begin{equation}\n",
    "\\sigma_{\\text{N3LO}}^{\\text{VBF}}(\\sqrt{s}=13\\text{TeV},m_{\\text{H}}=125\\text{GeV})=1.726_{-0.04\\%}^{+0.03\\%}(\\text{scale})\\pm2.1\\%(\\text{PDF}+\\alpha_S)\\text{ fb}\n",
    "\\end{equation}\n",
    "\n",
    "\n",
    "* **top quark pair associated production $\\text{qq}'\\rightarrow\\text{t}\\bar{\\text{t}}\\text{HH}$**: $\\sigma_{\\text{NNLO}}^{\\text{t}\\bar{\\text{t}}\\text{HH}}\\approx0.86\\text{ fb}$\n",
    "* **vector boson associated production $\\text{qq}'\\rightarrow\\text{VHH}$**: $\\sigma_{\\text{NLO}}^{\\text{VHH}}\\approx0.78\\text{ fb}$\n",
    "* **single top quark associated production $\\text{qq}'\\rightarrow\\text{tjHH}$**: $\\sigma_{\\text{NNLO}}^{\\text{tjHH}}\\approx0.03\\text{ fb}$"
   ]
  },
  {
   "cell_type": "markdown",
   "metadata": {},
   "source": [
    "The two dominant production modes, **ggHH** and **qqHH** (or VBF) are the only two production modes that can be probed at the LHC given the current integrated luminosity at our disposal. The Feynman diagrams for these two production mdes are reported below.\n",
    "\n",
    "<img src=\"img/ggHH.png\" alt=\"ggHH\" style=\"width: 500px;\"/>\n",
    "<img src=\"img/qqHH.png\" alt=\"qqHH\" style=\"width: 500px;\"/>"
   ]
  },
  {
   "cell_type": "markdown",
   "metadata": {},
   "source": [
    "As you can see from the diagrams, the two production modes are very different one from the other. The first one  can be seen as a deeply inelastic process while the second one can be seen as an elastic scattering.\n",
    "\n",
    "This difference will be reflected in the kinematics of the process that we reconstruct in our experiment. Such difference you have already slightly encountered it in the previous notebook, where you saw that a dedicated category is present for the VBF production mode.\n",
    "\n",
    "You can now start studying also the events coming from the qqHH production mode by opening the related file:\n",
    "```python\n",
    "rfile = ROOT.TFile.Open('../../SKIMS/SKIM_VBFHH_CV_1_C2V_1_C3_1_xs.root') \n",
    "```"
   ]
  },
  {
   "cell_type": "markdown",
   "metadata": {},
   "source": [
    "### 3.2 HH *vs.* $t\\bar{t}$"
   ]
  },
  {
   "cell_type": "markdown",
   "metadata": {},
   "source": [
    "In the second notebook you have already encountered the $t\\bar{t}$ background.\n",
    "```python\n",
    "rfile = ROOT.TFile.Open('../../SKIMS/TT_fullyHad.root') \n",
    "```\n",
    "\n",
    "But what does it mean that $t\\bar{t}$ production is a background?\n",
    "\n",
    "Can you explain it by considering this Feynman  diagram?\n",
    "\n",
    "<img src=\"img/ttbar.png\" alt=\"ttbar\" style=\"width: 400px;\"/>"
   ]
  },
  {
   "cell_type": "markdown",
   "metadata": {},
   "source": [
    "Can you think of any other process that can be a background to the $HH\\rightarrow bb\\tau\\tau$ search?"
   ]
  },
  {
   "cell_type": "markdown",
   "metadata": {},
   "source": [
    "### 3.3 For next time"
   ]
  },
  {
   "cell_type": "markdown",
   "metadata": {},
   "source": [
    "In the second notebook you have seen how in our analysis we define the categories depending on various features of the final states. This leads us to 4 categories: **2b0j**, **1b1j**, **boosted**, and **VBF**.\n",
    "\n",
    "Now that you have access to the qqHH prodcution mechanism MC sample, you can try to apply the category selection to it and see what categories will be populated by it.\n",
    "\n",
    "\n",
    "So for next time:\n",
    "* apply the categorization to the ggHH and qqHH samples and understand the cross population of the categories\n",
    "* apply the categorization to the $t\\bar{t}$ samples and understand the population of the categories\n",
    "* try to find variables that can support your phenomenological ideas\n",
    "\n",
    "Plus I would start to write something for the report. Maybe a simple skeleton of the report with few bullet points of the thing you have learned up to know. In this way you keep track of what you have done, you understand if you really understood what you are talking about, and you get an idea of what the report will look like."
   ]
  }
 ],
 "metadata": {
  "kernelspec": {
   "display_name": "Python 3",
   "language": "python",
   "name": "python3"
  },
  "language_info": {
   "codemirror_mode": {
    "name": "ipython",
    "version": 3
   },
   "file_extension": ".py",
   "mimetype": "text/x-python",
   "name": "python",
   "nbconvert_exporter": "python",
   "pygments_lexer": "ipython3",
   "version": "3.7.0"
  }
 },
 "nbformat": 4,
 "nbformat_minor": 2
}
