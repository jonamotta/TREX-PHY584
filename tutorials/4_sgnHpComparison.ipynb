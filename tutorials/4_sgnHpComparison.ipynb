{
 "cells": [
  {
   "cell_type": "markdown",
   "metadata": {},
   "source": [
    "# 4. Comparison of different signal hypotheses"
   ]
  },
  {
   "cell_type": "markdown",
   "metadata": {},
   "source": [
    "In this tutorial you will start looking into the different Effective Field Theory (EFT) extensions of the SM."
   ]
  },
  {
   "cell_type": "markdown",
   "metadata": {},
   "source": [
    "### 4.1 Theory rminder"
   ]
  },
  {
   "cell_type": "markdown",
   "metadata": {},
   "source": [
    "**WHat is an EFT?**\n",
    "\n",
    "The idea of an effective field theory dates back to the origin of modern physics itself: **given the limited length scale at which we can probe a process, we can average over all the smaller scale interactions to get an approximate theory at the scale of interest**\n",
    "\n",
    "e.g. Fermi theory of $\\beta$ decays where $n\\rightarrow p+e+\\bar{\\nu}_e$ is studied as a pointlike interaction neglecting the presence of the W boson (the success of the Fermi theory was that $m_W\\approx80$GeV, while early experiments were at energy $\\leq10$MeV)"
   ]
  },
  {
   "cell_type": "markdown",
   "metadata": {},
   "source": [
    "**The mathematical formulation**\n",
    "\n",
    "The basic idea behind the construction of an EFT is that of dropping the assumption that the lagrangians must\n",
    "be renormalizable. This approach opens the way to interaction terms with arbitrary large mass dimensions $\\mathcal{D}$, which can be classified in order of $\\mathcal{D}$ and suppressed by powers of an arbitrary large mass scale $\\Lambda$\n",
    "\n",
    "\\begin{split}\n",
    "        \\mathcal{L} & = \\mathcal{L}_{SM} + \\sum_{n=5}^{+\\infty}\\sum_i\\frac{c_i^{(n)}}{\\Lambda^{n-4}}\\mathcal{O}_i^{(n)} = \\\\\n",
    "                    & = \\mathcal{L}_{SM} + \\sum_i\\frac{c_i^{(5)}}{\\Lambda}\\mathcal{O}_i^{(5)} + \\sum_i\\frac{c_i^{(6)}}{\\Lambda^2}\\mathcal{O}_i^{(6)} + ...\n",
    "        \\end{split}\n",
    "        \n",
    "where ￼$\\mathcal{O}_i^{\\mathcal{(D)}}$ is a complete basis of ￼$\\text{SU(2)}\\otimes\\text{U(1)}\\oplus\\text{SU(3)}$ invariant operators of dimension ￼"
   ]
  },
  {
   "cell_type": "markdown",
   "metadata": {},
   "source": [
    "**For HH**\n",
    "\n",
    "In the case of HH, the smallest interesting operators are of dimension 6 and the Lagrangian reads:\n",
    "\n",
    "\\begin{split}\n",
    "\\mathcal{L}_{HH} & = \\frac{1}{2}\\partial^{\\mu}\\mathcal{H}\\partial_{\\mu}\\mathcal{H} - \\frac{1}{2}m_{\\text{H}}^2\\mathcal{H}^2 + \\kappa_{\\lambda}\\lambda_{HHH} v\\mathcal{H}^3 \\\\ & - \\frac{m_t}{v}\\Big(v+k_t\\mathcal{H} +\\frac{c_2}{v}\\mathcal{H}^2\\Big)(\\bar{t}_Lt_R+t_R\\bar{t_L}) \\\\ & + \\frac{\\alpha_s}{12\\pi v} \\Big(c_g\\mathcal{H} - \\frac{c_{2g}}{2v}\\mathcal{H}^2\\Big)G^A_{\\mu\\nu}G^{A,\\mu\\nu}\n",
    "\\end{split}\n",
    "\n",
    "\n",
    "where:\n",
    "* $\\kappa_{\\lambda} = \\frac{\\lambda_{HHH}}{\\lambda_{HHH}^{SM}}$\n",
    "* $\\kappa_{t} = \\frac{y_t}{y_t^{SM}}$\n",
    "* $c_2$ = point interaction between two fermions and two H\n",
    "* $c_g$ = point interaction between two gluons and one H\n",
    "* $c_2g$ = point interaction between two gluons and two H\n",
    "\n",
    "<img src=\"img/EFT.png\" alt=\"EFT\" style=\"width: 700px;\"/>"
   ]
  },
  {
   "cell_type": "markdown",
   "metadata": {},
   "source": [
    "### 4.2 EFT benchmarks"
   ]
  },
  {
   "cell_type": "markdown",
   "metadata": {},
   "source": [
    "Main reference where section 4.2 comes from: [Higgs Pair Production: Choosing Benchmarks With Cluster Analysis](https://arxiv.org/pdf/1507.02245.pdf)"
   ]
  },
  {
   "cell_type": "markdown",
   "metadata": {},
   "source": [
    "New physics theories often depend on a large number of free parameters. The phenomenology they predict for fundamental physics processes is in some cases drastically affected by the precise value of those free parameters, while in other cases is left basically invariant at the level of detail experimentally accessible. When designing a strategy for the analysis of experimental data in the search for a signal predicted by a new physics model, it appears advantageous to categorize the parameter space describing the model according to the corresponding kinematical features of the final state. A multi-dimensional test statistic can be used to gauge the degree of similarity in the kinematics predicted by different models; a clustering algorithm using that metric may allow the division of the space into homogeneous regions, each of which can be successfully represented by a benchmark point. Searches targeting those benchmarks are then guaranteed to be sensitive to a large area of the parameter space."
   ]
  },
  {
   "cell_type": "markdown",
   "metadata": {},
   "source": [
    "**IN A NUTSHELL**\n",
    "\n",
    "Given the 5 free parameters of the EFT ($\\kappa_{\\lambda}$, $\\kappa_{t}$, $c_2$, $c_g$, $c_2g$) the phase space to probe is huge \n",
    "\n",
    "<u>*BUT*</u>\n",
    "\n",
    "there is an approximate degeneracy in the choice of the parameters, i.e. two different sets of parameters could actually give a very similar prediction\n",
    "\n",
    "<u>*THEREFORE*</u>\n",
    "\n",
    "the sets of parameters that give a similar result are \"averaged\" to get one single set of parameters representative of all of them. \n",
    "\n",
    "We call this point **BENCHMARK**"
   ]
  },
  {
   "cell_type": "markdown",
   "metadata": {},
   "source": [
    "There are 12 benchmarks defined fro EFT studies, and they are all caracterized by a specific choice of the five parameters of the Lagrangian. "
   ]
  },
  {
   "cell_type": "markdown",
   "metadata": {},
   "source": [
    "For simplicity this time we will start with 3 cases which are actually not part of the 12 EFT benchmarks. These cases only affect the value of $\\kappa_{\\lambda}$ while leaving the other four couplings untouched:\n",
    "* ($\\kappa_{\\lambda}$, $\\kappa_{t}$, $c_2$, $c_g$, $c_2g$) = (0, 1, 0, 0, 0) $\\Rightarrow$ cHHH0\n",
    "* ($\\kappa_{\\lambda}$, $\\kappa_{t}$, $c_2$, $c_g$, $c_2g$) = (2.45, 1, 0, 0, 0) $\\Rightarrow$ cHHH2p45\n",
    "* ($\\kappa_{\\lambda}$, $\\kappa_{t}$, $c_2$, $c_g$, $c_2g$) = (5, 1, 0, 0, 0) $\\Rightarrow$ cHHH5"
   ]
  },
  {
   "cell_type": "markdown",
   "metadata": {},
   "source": [
    "Here you can see how the cross section for HH prodyuction evolves as a function of $\\kappa_{\\lambda}$:\n",
    "\n",
    "<img src=\"img/HHxs(k_l).png\" alt=\"HHxs(k_l)\" style=\"width: 500px;\"/>"
   ]
  },
  {
   "cell_type": "markdown",
   "metadata": {},
   "source": [
    "### 4.3 Your work for today/next time"
   ]
  },
  {
   "cell_type": "markdown",
   "metadata": {},
   "source": [
    "In the `SKIMS` forlder I have added three now files:\n",
    "* `SKIM_GGHH_NLO_pointA_xs`\n",
    "* `SKIM_GGHH_NLO_pointB_xs`\n",
    "* `SKIM_GGHH_NLO_pointC_xs`\n",
    "\n",
    "which cointain signal events produced in the gluon fusion process with the different $\\kappa_{\\lambda}$ values reported above."
   ]
  },
  {
   "cell_type": "markdown",
   "metadata": {},
   "source": [
    "What you should do is to try and understand which sample corresponds to which case (cHHH0, cHHH2p45, cHHH5).\n",
    "\n",
    "This can be done by studying various variables of interest and interpreting thir distributions in light of the theoretical knowledge you have (e.g. the Feynman diagrams, the lagrangian, etc.)"
   ]
  },
  {
   "cell_type": "markdown",
   "metadata": {},
   "source": [
    "**REMEMBER THAT YOU ARE LOOKING AT RECONSTRUCTED VARIABLES ON WHICH CUTS AND REQUIREMENTS HAVE ALREADY BEEN APPLIED! YOU SHOULD FACTOR THIS IN YOUR REASONING!**"
   ]
  },
  {
   "cell_type": "markdown",
   "metadata": {},
   "source": [
    "This will not be an easy task but I think that there is a lot of nice thinking that you can put in it!"
   ]
  },
  {
   "cell_type": "markdown",
   "metadata": {},
   "source": [
    "### 4.4 Bonus"
   ]
  },
  {
   "cell_type": "markdown",
   "metadata": {},
   "source": [
    "**<u>If you find the above task easy and fast to deal with</u>**, you can proceed with the inverted task for the VBF production mode.\n",
    "\n",
    "In the `SKIMS` folder I have added also these new files which cointain signal events produced in the gluon fusion process with the different couplings values (CV, C2V, C3) = ($\\kappa_V$, $\\kappa_2V$, $\\kappa_{\\lambda}$):\n",
    "* `SKIM_VBFHH_CV_0_5_C2V_1_C3_1_xs` $\\rightarrow$ ($\\kappa_V$, $\\kappa_{2V}$, $\\kappa_{\\lambda}$) = (0.5, 1, 1)\n",
    "* `SKIM_VBFHH_CV_1_5_C2V_1_C3_1_xs` $\\rightarrow$ ($\\kappa_V$, $\\kappa_{2V}$, $\\kappa_{\\lambda}$) = (1.5, 1, 1)\n",
    "* `SKIM_VBFHH_CV_1_C2V_1_C3_0_xs` $\\rightarrow$ ($\\kappa_V$, $\\kappa_{2V}$, $\\kappa_{\\lambda}$) = (1, 1, 0)\n",
    "* `SKIM_VBFHH_CV_1_C2V_1_C3_2_xs` $\\rightarrow$ ($\\kappa_V$, $\\kappa_{2V}$, $\\kappa_{\\lambda}$) = (1, 1, 2)\n",
    "* `SKIM_VBFHH_CV_1_C2V_2_C3_1_xs` $\\rightarrow$ ($\\kappa_V$, $\\kappa_{2V}$, $\\kappa_{\\lambda}$) = (1, 2, 1)"
   ]
  },
  {
   "cell_type": "markdown",
   "metadata": {},
   "source": [
    "What you should do is to try and understand why these differnt coupling configurations give the different distributions of the interesting variables."
   ]
  },
  {
   "cell_type": "markdown",
   "metadata": {},
   "source": [
    "**REMEMBER THAT YOU ARE LOOKING AT RECONSTRUCTED VARIABLES ON WHICH CUTS AND REQUIREMENTS HAVE ALREADY BEEN APPLIED! YOU SHOULD FACTOR THIS IN YOUR REASONING!**"
   ]
  }
 ],
 "metadata": {
  "kernelspec": {
   "display_name": "Python 3",
   "language": "python",
   "name": "python3"
  },
  "language_info": {
   "codemirror_mode": {
    "name": "ipython",
    "version": 3
   },
   "file_extension": ".py",
   "mimetype": "text/x-python",
   "name": "python",
   "nbconvert_exporter": "python",
   "pygments_lexer": "ipython3",
   "version": "3.7.0"
  }
 },
 "nbformat": 4,
 "nbformat_minor": 2
}
