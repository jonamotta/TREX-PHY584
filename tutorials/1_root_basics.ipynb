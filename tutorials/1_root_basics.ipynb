{
 "cells": [
  {
   "cell_type": "markdown",
   "metadata": {},
   "source": [
    "# 1. `ROOT` basics tutorial\n",
    "\n",
    "Let's start by importing root and some other libraries needed for the following:"
   ]
  },
  {
   "cell_type": "code",
   "execution_count": null,
   "metadata": {},
   "outputs": [],
   "source": [
    "import sys\n",
    "import os\n",
    "import ROOT\n",
    "import numpy as np # library of mathematical functions\n",
    "import pandas as pd # library for data storage\n",
    "import matplotlib.pyplot as plt # library for basic plotting\n",
    "import seaborn as sb # library for statistical plotting"
   ]
  },
  {
   "cell_type": "markdown",
   "metadata": {},
   "source": [
    "We use ROOT to read the file containing the events and to check what is inside the it:\n",
    "* `TFile` is the ROOT library for the handling of files\n",
    "* `GetListOfKeys()` returns the list of names of the object contained in the file\n",
    "* `Get()` is the general function to get an object. It takes the name of the object as an input\n",
    "* `GetEntries()` takes no input and returns the number of entries in the object on which it is called"
   ]
  },
  {
   "cell_type": "code",
   "execution_count": null,
   "metadata": {},
   "outputs": [],
   "source": [
    "rfile = ROOT.TFile.Open('../../SKIMS/SKIM_GGHH_NLO_cHHH1_xs.root')\n",
    "\n",
    "for key in rfile.GetListOfKeys():\n",
    "    name = key.GetName()\n",
    "    entries = rfile.Get(name).GetEntries()\n",
    "    print('{} : {}'.format(name,entries))"
   ]
  },
  {
   "cell_type": "markdown",
   "metadata": {},
   "source": [
    "Inside the file there is a `TTree` with `26940 entries`. \n",
    "\n",
    "But what is a `TTree`? <br>\n",
    "A `TTree` represents a columnar dataset. Any C++ type can be stored in its columns. A `TTree`, often called in jargon tree, consists of a list of independent columns or branches, represented by the `TBranch` class. Behind each branch, buffers are allocated automatically by `ROOT`. Such buffers are automatically written to disk or kept in memory until the size stored in the attribute `fMaxVirtualSize` is reached. Variables of one branch are written to the same buffer. A branch buffer is automatically compressed if the file compression attribute is set (default). Branches may be written to different files (see `TBranch::SetFile`). <br>\n",
    "A full documentation about `TTree` can be found [here](https://root.cern.ch/doc/master/classTTree.html).\n",
    "\n",
    "But what is there inside this tree? <br>\n",
    "Let's check:"
   ]
  },
  {
   "cell_type": "code",
   "execution_count": null,
   "metadata": {
    "scrolled": true
   },
   "outputs": [],
   "source": [
    "tree = rfile.Get('HTauTauTree')\n",
    "tree.Print()"
   ]
  },
  {
   "cell_type": "markdown",
   "metadata": {},
   "source": [
    "But `PyROOT` can do much more for you than simply providing access to `C++` libraries from `Python`. You can also inject efficient `C++` code into your `Python` program to speed up potentially slow parts of your program!"
   ]
  },
  {
   "cell_type": "code",
   "execution_count": null,
   "metadata": {
    "scrolled": false
   },
   "outputs": [],
   "source": [
    "ROOT.gInterpreter.Declare('''\n",
    "int my_heavy_computation(std::string x) {\n",
    "    // heavy computation goes here\n",
    "    return x.length();\n",
    "}\n",
    "''')\n",
    "\n",
    "# Functions and object made available via the interpreter are accessible from\n",
    "# the ROOT module\n",
    "y = ROOT.my_heavy_computation(\"the ultimate answer to life and everything\")\n",
    "print(y) # Guess the result!"
   ]
  },
  {
   "cell_type": "markdown",
   "metadata": {},
   "source": [
    "## 1.1 Plotting and fitting"
   ]
  },
  {
   "cell_type": "markdown",
   "metadata": {},
   "source": [
    " Now that we have seen how to open and inspect a tree, let's see how to plot what is contained in it."
   ]
  },
  {
   "cell_type": "code",
   "execution_count": null,
   "metadata": {
    "scrolled": false
   },
   "outputs": [],
   "source": [
    "# Make global style changes\n",
    "ROOT.gStyle.SetOptStat(0) # Disable the statistics box\n",
    "ROOT.gStyle.SetTextFont(42)\n",
    "\n",
    "# Create a canvas\n",
    "c = ROOT.TCanvas('c', 'DNNoutSM_kl_1', 600, 400)\n",
    "\n",
    "# Create a histogram and draw it\n",
    "h = ROOT.TH1F('h', ';DNNoutSM_kl_1; N_{Events}', 20, 0, 1)\n",
    "tree.Draw(\"DNNoutSM_kl_1>>h\")\n",
    "\n",
    "# Let's add some CMS style headline\n",
    "label = ROOT.TLatex()\n",
    "label.SetNDC(True)\n",
    "label.SetTextSize(0.040)\n",
    "label.DrawLatex(0.10, 0.92, '#bf{CMS preliminary}')\n",
    "label.DrawLatex(0.58, 0.92, '#sqrt{s} = 13 TeV, L_{int} = 59.7 fb^{-1}')\n",
    "\n",
    "# show interactively\n",
    "c.Draw()"
   ]
  },
  {
   "cell_type": "markdown",
   "metadata": {},
   "source": [
    "Now that we have seen this let's try and fill a histogram starting from the information iside a dataframe. \n",
    "\n",
    "Instead of using `uproot` this time we create a dataframe and fill it iteratively looping on the events contained in the tree."
   ]
  },
  {
   "cell_type": "code",
   "execution_count": null,
   "metadata": {
    "scrolled": true
   },
   "outputs": [],
   "source": [
    "Nevents = tree.GetEntries() # get the number of events inside the tree \n",
    "\n",
    "# create a dataframe that will contain the information we need\n",
    "dau1df = pd.DataFrame(columns = [\"dau1Pt\", \"dau1Eta\", \"dau1Phi\", \"dau1Flav\"], index = range(Nevents))\n",
    "dau2df = pd.DataFrame(columns = [\"dau2Pt\", \"dau2Eta\", \"dau2Phi\", \"dau2Flav\"], index = range(Nevents))\n",
    "\n",
    "for i in range(Nevents):\n",
    "    tree.GetEntry(i)\n",
    "    dau1df[\"dau1Pt\"][i] = tree.dau1_pt\n",
    "    dau1df[\"dau1Eta\"][i] = tree.dau1_eta\n",
    "    dau1df[\"dau1Phi\"][i] = tree.dau1_phi\n",
    "    dau1df[\"dau1Flav\"][i] = tree.dau1_flav\n",
    "    dau2df[\"dau2Pt\"][i] = tree.dau1_pt\n",
    "    dau2df[\"dau2Eta\"][i] = tree.dau1_eta\n",
    "    dau2df[\"dau2Phi\"][i] = tree.dau1_phi\n",
    "    dau2df[\"dau2Flav\"][i] = tree.dau1_flav\n",
    "\n",
    "dau1df.head()"
   ]
  },
  {
   "cell_type": "markdown",
   "metadata": {},
   "source": [
    "As you can see doing this takes a pretty long time!! So you might consider doing the reading of the `ROOT` file only once, you save the info inside a `.csv` file and then from then on you just read the `.csv` file which is a way faster method of reading data. Now this has the disadvantage that you will not be able to use the `ROOT` libraries on it."
   ]
  },
  {
   "cell_type": "markdown",
   "metadata": {},
   "source": [
    "Now that we have the DataFrame ready we can fill the histogram looping o the data inside the DataFrame."
   ]
  },
  {
   "cell_type": "code",
   "execution_count": null,
   "metadata": {},
   "outputs": [],
   "source": [
    "# Create a canvas\n",
    "c1 = ROOT.TCanvas('c1', 'dau1_pt', 600, 400)\n",
    "\n",
    "# Create a histogram and draw it\n",
    "h1 = ROOT.TH1F('h1', ';#tau_{h}^{(1)} p_{T}; N_{Events}', 100, 50, 350)\n",
    "for pt in dau1df[\"dau1Pt\"]:\n",
    "    if pt > 50: # I put this cut just for the fitting purpose\n",
    "        h1.Fill(pt)\n",
    "h1.Draw()\n",
    "    \n",
    "# Let's add some CMS style headline\n",
    "label = ROOT.TLatex()\n",
    "label.SetNDC(True)\n",
    "label.SetTextSize(0.040)\n",
    "label.DrawLatex(0.10, 0.92, '#bf{CMS preliminary}')\n",
    "label.DrawLatex(0.58, 0.92, '#sqrt{s} = 13 TeV, L_{int} = 59.7 fb^{-1}')\n",
    "\n",
    "# show interactively\n",
    "c1.Draw()"
   ]
  },
  {
   "cell_type": "markdown",
   "metadata": {},
   "source": [
    "Now that we have a plot we can try to fit it with user defined functions using `ROOT`. We do it like this:"
   ]
  },
  {
   "cell_type": "code",
   "execution_count": null,
   "metadata": {},
   "outputs": [],
   "source": [
    "# Fit an inverse exponential function to the data\n",
    "f = ROOT.TF1('f', '[0] * exp(-[1]*x) + [2]')\n",
    "h1.Fit(f)\n",
    "\n",
    "c1.Draw()"
   ]
  },
  {
   "cell_type": "markdown",
   "metadata": {},
   "source": [
    "Why has the fit failed? Hint: what is the weak spot of every minimization (e.g. Newton-Rafson, bisection, etc.)? "
   ]
  },
  {
   "cell_type": "code",
   "execution_count": null,
   "metadata": {},
   "outputs": [],
   "source": [
    "# Fit an inverse exponential function to the data\n",
    "f = ROOT.TF1('f', '[0] * exp(-[1]*x) + [2]')\n",
    "f.SetParameters(4000, 0.02, 0)\n",
    "h1.Fit(f)\n",
    "\n",
    "c1.Draw()"
   ]
  },
  {
   "cell_type": "markdown",
   "metadata": {},
   "source": [
    "A very cool feature (honestly I hve never used it but I discovered it writing this tutorial and I want to share it with you). It is the `%jsroot on` magic, which enables ROOT’s JavaScript integration! This allows you to interact with the visualization such as you are used to it from the interactive graphics in the Python prompt. "
   ]
  },
  {
   "cell_type": "code",
   "execution_count": null,
   "metadata": {
    "scrolled": false
   },
   "outputs": [],
   "source": [
    "%jsroot on\n",
    "c1.Draw()"
   ]
  },
  {
   "cell_type": "code",
   "execution_count": null,
   "metadata": {},
   "outputs": [],
   "source": [
    "%jsroot off"
   ]
  },
  {
   "cell_type": "markdown",
   "metadata": {},
   "source": [
    "## 1.2 `RDataFrame` data handling"
   ]
  },
  {
   "cell_type": "markdown",
   "metadata": {},
   "source": [
    "`RDataFrame` is `ROOT`’s high-level (and __very new__) interface for efficient data analysis. With `RDataFrame`, it is possible to read, select, modify and write `ROOT` data, as well as easily produce histograms, cut-flow reports and other results. In this and the following sections, you will learn how to perform data analysis with `RDataFrame`, running all your tasks efficiently on multiple threads!\n",
    "\n",
    "`ROOT` tries to make parallelization as simple as possible for you. For this reason, we offer the feature `ROOT.EnableImplicitMT(N)`, which enables thread safety for the relevant classes and runs parallelized parts of `ROOT`, such as `RDataFrame`, implicitely on `N` threads:"
   ]
  },
  {
   "cell_type": "code",
   "execution_count": null,
   "metadata": {},
   "outputs": [],
   "source": [
    "# Enable multi-threading with the specified amount of threads (let's start with just one)\n",
    "# Note that older ROOT versions require to write ROOT.ROOT.EnableImplicitMT()\n",
    "ROOT.ROOT.EnableImplicitMT(1)\n",
    "\n",
    "# Or enable multi-threading with an auto-detected amount of threads\n",
    "#ROOT.ROOT.EnableImplicitMT()"
   ]
  },
  {
   "cell_type": "markdown",
   "metadata": {},
   "source": [
    "A possible way to construct an `RDataFrame` is passing one (ore more) filepaths and the name of the dataset (i.e. the name of the `TTree` object in the file, which is called `HTauTauTree` for us).\n"
   ]
  },
  {
   "cell_type": "code",
   "execution_count": null,
   "metadata": {},
   "outputs": [],
   "source": [
    "df = ROOT.RDataFrame(\"HTauTauTree\", \"/data_CMS/cms/motta/HHLegacy_SKIMS/SKIMS2018/TREX/SKIM_GGHH_NLO_cHHH1_xs.root\")"
   ]
  },
  {
   "cell_type": "markdown",
   "metadata": {},
   "source": [
    "Next, you can apply selections and other transormations to the dataframe. The first basic transformation is applying cuts with the `Filter` method. Note that each transformation returns a new, transformed dataframe and does not change the dataframe object itself!"
   ]
  },
  {
   "cell_type": "code",
   "execution_count": null,
   "metadata": {},
   "outputs": [],
   "source": [
    "# For simplicity, select only events with exactly two muons and require opposite charge\n",
    "df_ptCut = df.Filter(\"dau1_pt > 50 && dau2_pt > 50\", \"Events where both taus have pT > 50 GeV\")"
   ]
  },
  {
   "cell_type": "markdown",
   "metadata": {},
   "source": [
    "The next code block uses `PyROOT` to inject a `C++` implementation of the $\\Delta R = \\sqrt{(\\Delta\\phi)^2+(\\Delta\\eta)^2}$  computation. The name of the just-in-time compiled function can be used in the `Define` method to add a new column to the dataset, which will contain the angular separation."
   ]
  },
  {
   "cell_type": "code",
   "execution_count": null,
   "metadata": {},
   "outputs": [],
   "source": [
    "# Perform the computation of the angular separation in C++\n",
    "ROOT.gInterpreter.Declare('''\n",
    "float ComputeDeltaR(Double_t eta1, Double_t phi1, Double_t eta2, Double_t phi2) {\n",
    "    return sqrt((eta1-eta2)*(eta1-eta2) + (phi1-phi2)*(phi1-phi2));\n",
    "}\n",
    "''')\n",
    "\n",
    "# Add the result of the computation to the dataframe\n",
    "df_dR = df_ptCut.Define(\"dR\", \"ComputeDeltaR(dau1_eta, dau1_phi, dau2_eta, dau2_phi)\")"
   ]
  },
  {
   "cell_type": "markdown",
   "metadata": {},
   "source": [
    "At any point, you can book the computation of results, e.g., histograms or a report. Both of them are added below. Please note that `RDataFrame` is lazy! This means that the computation does not run right away, when you book a histogram, but you can accumulate multiple results and compute all of them in one go. The computation of all booked results is triggered only when you actually access one of the results!"
   ]
  },
  {
   "cell_type": "code",
   "execution_count": null,
   "metadata": {},
   "outputs": [],
   "source": [
    "h_dR = df_dR.Histo1D((\"dR\",\";#DeltaR(#tau,#tau);N_{Events}\", 25, 0, 10), \"dR\")\n",
    "report = df_dR.Report()"
   ]
  },
  {
   "cell_type": "markdown",
   "metadata": {},
   "source": [
    "As explained above, accessing a dataframe result triggers the computation (sometimes called “event loop”) of all results booked up to that point. Here, this happens when we draw the histogram. However, you just have to remember to book all results first and then start working with the results so that they can all be computed in one go! "
   ]
  },
  {
   "cell_type": "code",
   "execution_count": null,
   "metadata": {},
   "outputs": [],
   "source": [
    "c2 = ROOT.TCanvas(\"c2\", \"dR\", 600, 400)\n",
    "h_dR.Draw()\n",
    "\n",
    "label = ROOT.TLatex()\n",
    "label.SetNDC(True)\n",
    "label.SetTextSize(0.040)\n",
    "label.DrawLatex(0.100, 0.920, \"#bf{CMS Preliminary}\")\n",
    "label.DrawLatex(0.550, 0.920, \"#sqrt{s} = 13 TeV, L_{int} = 59.7 fb^{-1}\")\n",
    "\n",
    "# show interactively\n",
    "c2.Draw()"
   ]
  },
  {
   "cell_type": "markdown",
   "metadata": {},
   "source": [
    "We also print the cut-flow report to investigate the efficiency of the filters."
   ]
  },
  {
   "cell_type": "code",
   "execution_count": null,
   "metadata": {},
   "outputs": [],
   "source": [
    "# Print cut-flow report\n",
    "report.Print()"
   ]
  },
  {
   "cell_type": "markdown",
   "metadata": {},
   "source": [
    "### 1.3 Getting help with `ROOT`"
   ]
  },
  {
   "cell_type": "markdown",
   "metadata": {},
   "source": [
    "The [`ROOT` website](https://root.cern) is home to the [beginner’s guide](https://root.cern/primer/) and the more in-depth [manual],(https://root.cern/manual/). These are a great resource to start with `ROOT` and learn about parts of the framework in high detail. Keep in mind the [`ROOT` website](https://root.cern), which provides links to all resources in a single place!"
   ]
  },
  {
   "cell_type": "markdown",
   "metadata": {},
   "source": [
    "The [reference guide](https://root.cern/doc/master/index.html) provides a more technical documentation about `ROOT` powered by [Doxygen](https://www.doxygen.nl/index.html). You can search for classes or functions in `ROOT`, learn about types and methods and trace features down to the actual implementation.\n",
    "\n",
    "Although the reference guide is more technical in first place, important classes have extensive additional documentation. Feel free to investigate [`TTree`](https://root.cern/doc/master/classTTree.html) or [`RDataFrame`](https://root.cern/doc/master/classROOT_1_1RDataFrame.html)!\n",
    "\n",
    "Another part of the reference guide are the [tutorials](https://root.cern/doc/master/group__Tutorials.html), which explain features in working code examples. Feel free to look at tutorials for [`RooFit`](https://root.cern/doc/master/group__tutorial__roofit.html) and [`RDataFrame`](https://root.cern/doc/master/group__tutorial__dataframe.html), which cover many typical use cases for these parts of `ROOT`!"
   ]
  },
  {
   "cell_type": "markdown",
   "metadata": {},
   "source": [
    "The [`ROOT` forum](https://root-forum.cern.ch/) is the to-go place if you cannot find the answer in the documentation. Don’t hesitate to open a discussion, there is always someone from the `ROOT` team actively taking care of new questions in the forum!\n",
    "\n",
    "But not only questions are very welcome, you can also discuss possible improvements or make suggestions for new features!"
   ]
  },
  {
   "cell_type": "markdown",
   "metadata": {},
   "source": [
    "Bugs are currently tracked on [Jira](https://sft.its.cern.ch/jira/projects/ROOT/summary), but we will soon switch to [GitHub issues](https://github.com/root-project/root). However, if you discover bugs, please report them! In case you are not sure whether you see a bug or a feature, posting in the `ROOT` forum is always a good idea and always appreciated!"
   ]
  },
  {
   "cell_type": "markdown",
   "metadata": {},
   "source": [
    "### 1.4 `TLorentzVector` "
   ]
  },
  {
   "cell_type": "markdown",
   "metadata": {},
   "source": [
    "A very useful feature of `ROOT` is the possibility to define relativistic four-vectors. This can be done using the `TLorentzVector` class. The functions of this class allow the initialization and handling of the vector and its properties. Lets see how it works."
   ]
  },
  {
   "cell_type": "code",
   "execution_count": null,
   "metadata": {},
   "outputs": [],
   "source": [
    "Mtau = 1.777 #GeV \n",
    "\n",
    "# define a TLrentzVector\n",
    "vect1 = ROOT.TLorentzVector()\n",
    "# fill it we the information we have\n",
    "vect1.SetPtEtaPhiM(30,1.5,np.pi/2,Mtau)"
   ]
  },
  {
   "cell_type": "markdown",
   "metadata": {},
   "source": [
    "Now that we have set the vector we can compute the stuff we might need. For example we could need the mass x, y, z projections of the momentum of the particle, or its energy:"
   ]
  },
  {
   "cell_type": "code",
   "execution_count": null,
   "metadata": {},
   "outputs": [],
   "source": [
    "print('P =', vect1.P(), '; Px =', vect1.Px(), '; Py =', vect1.Py(), '; Pz =', vect1.Pz())\n",
    "print('E =', vect1.E())"
   ]
  },
  {
   "cell_type": "markdown",
   "metadata": {},
   "source": [
    "Now suppose we want to reconstruct a particle decaying in two $\\tau$ leptons. Then we would have a second vector for the second $\\tau$ lepton:"
   ]
  },
  {
   "cell_type": "code",
   "execution_count": null,
   "metadata": {},
   "outputs": [],
   "source": [
    "vect2 = ROOT.TLorentzVector()\n",
    "vect2.SetPtEtaPhiE(50,-1.5,-np.pi/2,70.595)"
   ]
  },
  {
   "cell_type": "markdown",
   "metadata": {},
   "source": [
    "Then the two vectors of the reconstructed tau leptons should be added together to form the four-vector of the particle we are trying to reconstruct:"
   ]
  },
  {
   "cell_type": "code",
   "execution_count": null,
   "metadata": {},
   "outputs": [],
   "source": [
    "vect = vect1 + vect2"
   ]
  },
  {
   "cell_type": "markdown",
   "metadata": {},
   "source": [
    "Let's see what are we reconstructing:"
   ]
  },
  {
   "cell_type": "code",
   "execution_count": null,
   "metadata": {},
   "outputs": [],
   "source": [
    "print('E =', vect.E(), '; M =', vect.M())"
   ]
  },
  {
   "cell_type": "markdown",
   "metadata": {},
   "source": [
    "Given the angular configuration of the two $\\tau$ leptons that we have defined, and given the E and M of the particle they come from, what can we say about it? How was it produced?"
   ]
  },
  {
   "cell_type": "markdown",
   "metadata": {},
   "source": [
    "### 1.5 For next time"
   ]
  },
  {
   "cell_type": "markdown",
   "metadata": {},
   "source": [
    "I would like you to start working with the NTuples I provide you in the folder `SKIMS`. Take these two: \n",
    "* `SKIM_GGHH_NLO_cHHH1_xs.root` which contains the signal of double Higgs production trhough gluon fusion \n",
    "* `SKIM_TT_fullyHad.root` which contains the biggest background to our analysis\n",
    "these two NTuples are Monte Carlo (MC) simulations.\n",
    "\n",
    "I would like you to do this:\n",
    "* construct the four-vector fo the Higgs candidate decaying into two $\\tau$ leptons\n",
    "* plot the distribution of the mass of the Higgs candidates you reconstruct and understand:\n",
    "    * why they have such a shape\n",
    "    * why are they the same if they are the same and why are they different if they are different\n",
    "* fit this distributions of the mass to see if they are consistent with a Higgs boson or if they are not (NB choose the appropriate function)\n",
    "* do the same for the Higgs boson decaying to two b quarks\n",
    "\n",
    "**THE OUTPUTS OF THIS WORK WILL BE WRONG! WHY?** Try to understand what is going on and why these results are wrong (there must be something 'fishy' going on if I know from the start that you will get wron results)"
   ]
  },
  {
   "cell_type": "markdown",
   "metadata": {},
   "source": [
    "You have all the knowledge you need to do this, the only thing you need more is to know how the variables are called in the tree:\n",
    "* `dau1_pt` transverse momentum of the first $\\tau$ lepton\n",
    "* `dau1_eta` eta of the first $\\tau$ lepton\n",
    "* `dau1_phi` phi of the first $\\tau$ lepton\n",
    "* `dau1_e` energy of the first $\\tau$ lepton"
   ]
  },
  {
   "cell_type": "markdown",
   "metadata": {},
   "source": [
    "* `dau2_pt` transverse momentum of the second $\\tau$ lepton\n",
    "* `dau2_eta` eta of the second $\\tau$ lepton\n",
    "* `dau2_phi` phi of the second $\\tau$ lepton\n",
    "* `dau2_e` energy of the second $\\tau$ lepton"
   ]
  },
  {
   "cell_type": "markdown",
   "metadata": {},
   "source": [
    "* `bjet1_pt` transverse momentum of the first b quark jet\n",
    "* `bjet1_eta` eta of the first b quark jet\n",
    "* `bjet1_phi` phi of the first b quark jet\n",
    "* `bjet1_e` energy of the first b quark jet"
   ]
  },
  {
   "cell_type": "markdown",
   "metadata": {},
   "source": [
    "* `bjet2_pt` transverse momentum of the second b quark jet\n",
    "* `bjet2_eta` eta of the second b quark jet\n",
    "* `bjet2_phi` phi of the second b quark jet\n",
    "* `bjet2_e` energy of the second b quark jet"
   ]
  },
  {
   "cell_type": "markdown",
   "metadata": {},
   "source": [
    "**WORK TOGETHER, I WOULD LIKE ALL OF YOU TO ARRIVE WITH THE SAME LEVEL OF KNOWLEDGE OF WHAT YOU HAVE DONE!**"
   ]
  },
  {
   "cell_type": "markdown",
   "metadata": {},
   "source": [
    "**LIKE ALWAYS, I AM AVAILABLE FOR ANY PROBLEM OR DOUBT. CONTACT ME ON SKYPE. BUT I ASK YOU TRY AND FIGURE OUT DOUBTS TOGETEHR BEFORE ASKING ME**"
   ]
  }
 ],
 "metadata": {
  "kernelspec": {
   "display_name": "Python 3",
   "language": "python",
   "name": "python3"
  },
  "language_info": {
   "codemirror_mode": {
    "name": "ipython",
    "version": 3
   },
   "file_extension": ".py",
   "mimetype": "text/x-python",
   "name": "python",
   "nbconvert_exporter": "python",
   "pygments_lexer": "ipython3",
   "version": "3.7.0"
  }
 },
 "nbformat": 4,
 "nbformat_minor": 4
}
